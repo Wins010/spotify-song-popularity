{
 "cells": [
  {
   "metadata": {},
   "cell_type": "markdown",
   "source": [
    "# Exploratory Data Analysis (EDA)\n",
    "This notebook is used to perform exploratory data analysis on the dataset."
   ],
   "id": "cf17d8e352192d42"
  },
  {
   "metadata": {},
   "cell_type": "markdown",
   "source": "## 1. Dataset Loading & Overview",
   "id": "89dca33968382d7b"
  },
  {
   "metadata": {},
   "cell_type": "markdown",
   "source": "### Importing Libraries",
   "id": "e5c7a5e2bd32e2e0"
  },
  {
   "metadata": {},
   "cell_type": "code",
   "outputs": [],
   "execution_count": null,
   "source": [
    "import pandas as pd\n",
    "import numpy as np\n",
    "import matplotlib.pyplot as plt\n",
    "import seaborn as sns\n",
    "import os"
   ],
   "id": "8eee60923e727338"
  },
  {
   "metadata": {},
   "cell_type": "markdown",
   "source": "",
   "id": "fbe5612ddb9c33ba"
  }
 ],
 "metadata": {
  "kernelspec": {
   "display_name": "Python 3",
   "language": "python",
   "name": "python3"
  },
  "language_info": {
   "codemirror_mode": {
    "name": "ipython",
    "version": 2
   },
   "file_extension": ".py",
   "mimetype": "text/x-python",
   "name": "python",
   "nbconvert_exporter": "python",
   "pygments_lexer": "ipython2",
   "version": "2.7.6"
  }
 },
 "nbformat": 4,
 "nbformat_minor": 5
}
